{
 "cells": [
  {
   "cell_type": "code",
   "execution_count": 57,
   "metadata": {},
   "outputs": [],
   "source": [
    "if 'libraries_imported' not in globals():\n",
    "    libraries_imported = False\n",
    "\n",
    "if libraries_imported == False:\n",
    "    import numpy as np\n",
    "    import pandas as pd\n",
    "    import matplotlib.pyplot as plt\n",
    "    import seaborn as sns\n",
    "    import os\n",
    "    from datetime import datetime, timedelta\n",
    "    from datetime import datetime\n",
    "    from scipy.interpolate import make_interp_spline\n",
    "    import plotly.graph_objects as go\n",
    "    from scipy.signal import butter, filtfilt\n",
    "    import pandas as pd\n",
    "    import seaborn as sns\n",
    "    import matplotlib.pyplot as plt\n",
    "    import numpy as np\n",
    "    import pandas as pd\n",
    "    from sklearn.preprocessing import StandardScaler\n",
    "    import tensorflow as tf\n",
    "    from tensorflow.keras.models import Sequential\n",
    "    from tensorflow.keras.layers import Dense\n",
    "    from sklearn.metrics import mean_squared_error, r2_score, mean_absolute_error\n",
    "    from keras_tuner import RandomSearch, HyperModel\n",
    "    import numpy as np\n",
    "    import pandas as pd\n",
    "    from sklearn.preprocessing import StandardScaler\n",
    "    import tensorflow as tf\n",
    "    from tensorflow.keras.models import Sequential\n",
    "    from tensorflow.keras.layers import LSTM, Dense\n",
    "    from tensorflow.keras.callbacks import EarlyStopping\n",
    "    from sklearn.metrics import mean_squared_error, r2_score, mean_absolute_error\n",
    "    from keras_tuner import RandomSearch, HyperModel\n",
    "    from tensorflow.keras.layers import Input\n",
    "    import sys\n",
    "    from sklearn.model_selection import train_test_split\n",
    "    from sklearn.ensemble import RandomForestRegressor\n",
    "    import numpy as np\n",
    "    import matplotlib.pyplot as plt\n",
    "    import numpy as np\n",
    "    import pandas as pd\n",
    "    import matplotlib.pyplot as plt\n",
    "    from sklearn.preprocessing import RobustScaler\n",
    "    import tensorflow as tf\n",
    "    from tensorflow.keras.callbacks import EarlyStopping, ReduceLROnPlateau\n",
    "    from sklearn.preprocessing import RobustScaler\n",
    "    import joblib\n",
    "    from sklearn.metrics import classification_report, confusion_matrix, ConfusionMatrixDisplay\n",
    "    from sklearn.utils.class_weight import compute_class_weight\n",
    "    import numpy as np\n",
    "    import pandas as pd\n",
    "    import matplotlib.pyplot as plt\n",
    "    import joblib\n",
    "    import tensorflow as tf\n",
    "    from sklearn.preprocessing import RobustScaler\n",
    "    from sklearn.model_selection import train_test_split\n",
    "    from sklearn.utils.class_weight import compute_class_weight\n",
    "    from sklearn.metrics import classification_report, confusion_matrix, ConfusionMatrixDisplay\n",
    "    import numpy as np\n",
    "    import pandas as pd\n",
    "    import joblib\n",
    "    import tensorflow as tf\n",
    "    from sklearn.model_selection import train_test_split\n",
    "    from imblearn.over_sampling import SMOTE\n",
    "\n",
    "\n",
    "\n",
    "\n",
    "    # # Display the first few rows\n",
    "    # import ace_tools as tools  # Importing display tool"
   ]
  },
  {
   "cell_type": "code",
   "execution_count": 58,
   "metadata": {},
   "outputs": [
    {
     "data": {
      "text/html": [
       "<div>\n",
       "<style scoped>\n",
       "    .dataframe tbody tr th:only-of-type {\n",
       "        vertical-align: middle;\n",
       "    }\n",
       "\n",
       "    .dataframe tbody tr th {\n",
       "        vertical-align: top;\n",
       "    }\n",
       "\n",
       "    .dataframe thead th {\n",
       "        text-align: right;\n",
       "    }\n",
       "</style>\n",
       "<table border=\"1\" class=\"dataframe\">\n",
       "  <thead>\n",
       "    <tr style=\"text-align: right;\">\n",
       "      <th></th>\n",
       "      <th>date</th>\n",
       "      <th>eq_ph</th>\n",
       "      <th>eq_cod</th>\n",
       "      <th>feed_vol</th>\n",
       "      <th>t1_ph</th>\n",
       "      <th>current</th>\n",
       "      <th>temp</th>\n",
       "      <th>methane_percentage</th>\n",
       "      <th>hrt</th>\n",
       "      <th>biogas_vol</th>\n",
       "    </tr>\n",
       "  </thead>\n",
       "  <tbody>\n",
       "    <tr>\n",
       "      <th>0</th>\n",
       "      <td>2022-07-06</td>\n",
       "      <td>5.5</td>\n",
       "      <td>14694</td>\n",
       "      <td>144</td>\n",
       "      <td>7.1</td>\n",
       "      <td>1652</td>\n",
       "      <td>36.8</td>\n",
       "      <td>65.1</td>\n",
       "      <td>25.0</td>\n",
       "      <td>1232.0</td>\n",
       "    </tr>\n",
       "    <tr>\n",
       "      <th>1</th>\n",
       "      <td>2022-08-06</td>\n",
       "      <td>5.3</td>\n",
       "      <td>15633</td>\n",
       "      <td>144</td>\n",
       "      <td>7.2</td>\n",
       "      <td>1652</td>\n",
       "      <td>36.8</td>\n",
       "      <td>68.0</td>\n",
       "      <td>25.0</td>\n",
       "      <td>1019.0</td>\n",
       "    </tr>\n",
       "    <tr>\n",
       "      <th>2</th>\n",
       "      <td>2022-09-06</td>\n",
       "      <td>5.2</td>\n",
       "      <td>11950</td>\n",
       "      <td>144</td>\n",
       "      <td>7.3</td>\n",
       "      <td>1652</td>\n",
       "      <td>36.8</td>\n",
       "      <td>70.9</td>\n",
       "      <td>25.0</td>\n",
       "      <td>1005.0</td>\n",
       "    </tr>\n",
       "    <tr>\n",
       "      <th>3</th>\n",
       "      <td>2022-10-06</td>\n",
       "      <td>5.2</td>\n",
       "      <td>14399</td>\n",
       "      <td>192</td>\n",
       "      <td>7.3</td>\n",
       "      <td>1652</td>\n",
       "      <td>34.8</td>\n",
       "      <td>65.7</td>\n",
       "      <td>19.0</td>\n",
       "      <td>892.0</td>\n",
       "    </tr>\n",
       "    <tr>\n",
       "      <th>4</th>\n",
       "      <td>2022-11-06</td>\n",
       "      <td>NaN</td>\n",
       "      <td>14399</td>\n",
       "      <td>192</td>\n",
       "      <td>NaN</td>\n",
       "      <td>1652</td>\n",
       "      <td>NaN</td>\n",
       "      <td>65.7</td>\n",
       "      <td>19.0</td>\n",
       "      <td>1100.0</td>\n",
       "    </tr>\n",
       "  </tbody>\n",
       "</table>\n",
       "</div>"
      ],
      "text/plain": [
       "        date  eq_ph  eq_cod  feed_vol  t1_ph  current  temp  \\\n",
       "0 2022-07-06    5.5   14694       144    7.1     1652  36.8   \n",
       "1 2022-08-06    5.3   15633       144    7.2     1652  36.8   \n",
       "2 2022-09-06    5.2   11950       144    7.3     1652  36.8   \n",
       "3 2022-10-06    5.2   14399       192    7.3     1652  34.8   \n",
       "4 2022-11-06    NaN   14399       192    NaN     1652   NaN   \n",
       "\n",
       "   methane_percentage   hrt  biogas_vol  \n",
       "0                65.1  25.0      1232.0  \n",
       "1                68.0  25.0      1019.0  \n",
       "2                70.9  25.0      1005.0  \n",
       "3                65.7  19.0       892.0  \n",
       "4                65.7  19.0      1100.0  "
      ]
     },
     "metadata": {},
     "output_type": "display_data"
    },
    {
     "data": {
      "text/html": [
       "<div>\n",
       "<style scoped>\n",
       "    .dataframe tbody tr th:only-of-type {\n",
       "        vertical-align: middle;\n",
       "    }\n",
       "\n",
       "    .dataframe tbody tr th {\n",
       "        vertical-align: top;\n",
       "    }\n",
       "\n",
       "    .dataframe thead th {\n",
       "        text-align: right;\n",
       "    }\n",
       "</style>\n",
       "<table border=\"1\" class=\"dataframe\">\n",
       "  <thead>\n",
       "    <tr style=\"text-align: right;\">\n",
       "      <th></th>\n",
       "      <th>date</th>\n",
       "      <th>eq_ph</th>\n",
       "      <th>eq_cod</th>\n",
       "      <th>feed_vol</th>\n",
       "      <th>t1_ph</th>\n",
       "      <th>current</th>\n",
       "      <th>temp</th>\n",
       "      <th>methane_percentage</th>\n",
       "      <th>hrt</th>\n",
       "      <th>biogas_vol</th>\n",
       "    </tr>\n",
       "  </thead>\n",
       "  <tbody>\n",
       "    <tr>\n",
       "      <th>0</th>\n",
       "      <td>2024-11-04</td>\n",
       "      <td>3.7</td>\n",
       "      <td>39900.0</td>\n",
       "      <td>60.0</td>\n",
       "      <td>7.0</td>\n",
       "      <td>497.422</td>\n",
       "      <td>35.770769</td>\n",
       "      <td>6666.0</td>\n",
       "      <td>15.0</td>\n",
       "      <td>300.0</td>\n",
       "    </tr>\n",
       "    <tr>\n",
       "      <th>1</th>\n",
       "      <td>2024-11-05</td>\n",
       "      <td>3.7</td>\n",
       "      <td>31400.0</td>\n",
       "      <td>60.0</td>\n",
       "      <td>7.0</td>\n",
       "      <td>545.210</td>\n",
       "      <td>36.464368</td>\n",
       "      <td>6271.0</td>\n",
       "      <td>15.0</td>\n",
       "      <td>690.0</td>\n",
       "    </tr>\n",
       "    <tr>\n",
       "      <th>2</th>\n",
       "      <td>2024-11-06</td>\n",
       "      <td>3.7</td>\n",
       "      <td>26700.0</td>\n",
       "      <td>60.0</td>\n",
       "      <td>7.0</td>\n",
       "      <td>519.733</td>\n",
       "      <td>36.996667</td>\n",
       "      <td>6416.0</td>\n",
       "      <td>15.0</td>\n",
       "      <td>660.0</td>\n",
       "    </tr>\n",
       "    <tr>\n",
       "      <th>3</th>\n",
       "      <td>2024-11-07</td>\n",
       "      <td>3.6</td>\n",
       "      <td>27500.0</td>\n",
       "      <td>60.0</td>\n",
       "      <td>7.0</td>\n",
       "      <td>506.521</td>\n",
       "      <td>35.317529</td>\n",
       "      <td>6132.0</td>\n",
       "      <td>15.0</td>\n",
       "      <td>770.0</td>\n",
       "    </tr>\n",
       "    <tr>\n",
       "      <th>4</th>\n",
       "      <td>2024-11-08</td>\n",
       "      <td>3.7</td>\n",
       "      <td>32900.0</td>\n",
       "      <td>60.0</td>\n",
       "      <td>7.0</td>\n",
       "      <td>484.783</td>\n",
       "      <td>35.906047</td>\n",
       "      <td>6061.0</td>\n",
       "      <td>15.0</td>\n",
       "      <td>740.0</td>\n",
       "    </tr>\n",
       "  </tbody>\n",
       "</table>\n",
       "</div>"
      ],
      "text/plain": [
       "        date  eq_ph   eq_cod  feed_vol  t1_ph  current       temp  \\\n",
       "0 2024-11-04    3.7  39900.0      60.0    7.0  497.422  35.770769   \n",
       "1 2024-11-05    3.7  31400.0      60.0    7.0  545.210  36.464368   \n",
       "2 2024-11-06    3.7  26700.0      60.0    7.0  519.733  36.996667   \n",
       "3 2024-11-07    3.6  27500.0      60.0    7.0  506.521  35.317529   \n",
       "4 2024-11-08    3.7  32900.0      60.0    7.0  484.783  35.906047   \n",
       "\n",
       "   methane_percentage   hrt  biogas_vol  \n",
       "0              6666.0  15.0       300.0  \n",
       "1              6271.0  15.0       690.0  \n",
       "2              6416.0  15.0       660.0  \n",
       "3              6132.0  15.0       770.0  \n",
       "4              6061.0  15.0       740.0  "
      ]
     },
     "metadata": {},
     "output_type": "display_data"
    }
   ],
   "source": [
    "\n",
    "# Load and clean SaniWASE dataset\n",
    "saniWASE_df = pd.read_csv(\"datasets/SaniWASE_Data_Cleaned_t1.csv\")\n",
    "saniWASE_df[\"date\"] = pd.to_datetime(saniWASE_df[\"datetime\"])\n",
    "saniWASE_df.drop(columns=[\"index\", \"datetime\", \"f/m_ratio\", \"fos\", \"tac\"], inplace=True)\n",
    "saniWASE_df = saniWASE_df.drop_duplicates()\n",
    "# Load and clean Cook dataset\n",
    "cook_df = pd.read_csv(\"datasets/Cook_Data_Cleaned_t1.csv\")\n",
    "cook_df['date'] = pd.to_datetime(cook_df['date'])\n",
    "cook_df = cook_df.groupby('date').mean()\n",
    "cook_df = cook_df.drop_duplicates()\n",
    "cook_df.reset_index(inplace=True)\n",
    "\n",
    "\n",
    "cook_df[\"methane_percentage\"] *= 100\n",
    "\n",
    "# Ensure consistent column order, keeping \"date\" first\n",
    "column_order = [\"date\"] + [col for col in saniWASE_df.columns if col != \"date\"]\n",
    "saniWASE_df = saniWASE_df[column_order]\n",
    "cook_df = cook_df[column_order]\n",
    "\n",
    "\n",
    "\n",
    "\n",
    "#Only keep live data inputs \n",
    "\n",
    "saniWASE_df.drop(columns=[\"h2s_ppm\", \"t1_cod\", \"t1_olr\", \"fostac\"], inplace=True)\n",
    "cook_df.drop(columns=[\"h2s_ppm\", \"t1_cod\", \"t1_olr\", \"fostac\"], inplace=True)\n",
    "\n",
    "\n",
    "display(saniWASE_df.head())\n",
    "display(cook_df.head())\n",
    "\n",
    "\n",
    "saniWASE_df_interpolated = saniWASE_df.interpolate(method = 'ffill')\n",
    "cook_df_interpolated = cook_df.interpolate(method = 'ffill')\n",
    "\n",
    "cook_df_interpolated = cook_df_interpolated.dropna()\n"
   ]
  },
  {
   "cell_type": "code",
   "execution_count": 59,
   "metadata": {},
   "outputs": [
    {
     "data": {
      "application/vnd.plotly.v1+json": {
       "config": {
        "plotlyServerURL": "https://plot.ly"
       },
       "data": [
        {
         "hovertemplate": "date=%{x}<br>EQ COD Value=%{y}<extra></extra>",
         "legendgroup": "",
         "line": {
          "color": "#636efa",
          "dash": "solid"
         },
         "marker": {
          "symbol": "circle"
         },
         "mode": "lines",
         "name": "",
         "orientation": "v",
         "showlegend": false,
         "type": "scatter",
         "x": [
          "2024-11-04T00:00:00",
          "2024-11-05T00:00:00",
          "2024-11-06T00:00:00",
          "2024-11-07T00:00:00",
          "2024-11-08T00:00:00",
          "2024-11-11T00:00:00",
          "2024-11-12T00:00:00",
          "2024-11-13T00:00:00",
          "2024-11-14T00:00:00",
          "2024-11-15T00:00:00",
          "2024-11-16T00:00:00",
          "2024-11-19T00:00:00",
          "2024-11-20T00:00:00",
          "2024-11-21T00:00:00",
          "2024-11-22T00:00:00",
          "2024-11-23T00:00:00",
          "2024-11-24T00:00:00",
          "2024-11-25T00:00:00",
          "2024-11-26T00:00:00",
          "2024-11-27T00:00:00",
          "2024-11-28T00:00:00",
          "2024-11-29T00:00:00",
          "2024-11-30T00:00:00",
          "2024-12-01T00:00:00",
          "2024-12-02T00:00:00",
          "2024-12-03T00:00:00",
          "2024-12-04T00:00:00",
          "2024-12-05T00:00:00",
          "2024-12-06T00:00:00",
          "2024-12-07T00:00:00",
          "2024-12-08T00:00:00",
          "2024-12-09T00:00:00",
          "2024-12-10T00:00:00",
          "2024-12-11T00:00:00",
          "2024-12-12T00:00:00",
          "2024-12-13T00:00:00",
          "2024-12-14T00:00:00",
          "2024-12-15T00:00:00",
          "2024-12-16T00:00:00",
          "2024-12-17T00:00:00",
          "2024-12-18T00:00:00",
          "2024-12-19T00:00:00",
          "2024-12-20T00:00:00",
          "2024-12-21T00:00:00",
          "2024-12-22T00:00:00",
          "2024-12-23T00:00:00",
          "2024-12-24T00:00:00",
          "2024-12-25T00:00:00",
          "2024-12-26T00:00:00",
          "2024-12-27T00:00:00",
          "2024-12-28T00:00:00",
          "2024-12-29T00:00:00",
          "2024-12-30T00:00:00",
          "2024-12-31T00:00:00",
          "2025-01-01T00:00:00",
          "2025-01-02T00:00:00",
          "2025-01-03T00:00:00",
          "2025-01-04T00:00:00",
          "2025-01-05T00:00:00",
          "2025-01-06T00:00:00",
          "2025-01-07T00:00:00",
          "2025-01-08T00:00:00",
          "2025-01-09T00:00:00",
          "2025-01-10T00:00:00",
          "2025-01-11T00:00:00",
          "2025-01-12T00:00:00",
          "2025-01-13T00:00:00",
          "2025-01-14T00:00:00",
          "2025-01-15T00:00:00",
          "2025-01-16T00:00:00",
          "2025-01-17T00:00:00",
          "2025-01-18T00:00:00",
          "2025-01-19T00:00:00",
          "2025-01-20T00:00:00",
          "2025-01-21T00:00:00",
          "2025-01-22T00:00:00",
          "2025-01-23T00:00:00",
          "2025-01-24T00:00:00",
          "2025-01-27T00:00:00",
          "2025-01-28T00:00:00",
          "2025-01-29T00:00:00",
          "2025-01-30T00:00:00",
          "2025-01-31T00:00:00",
          "2025-02-01T00:00:00",
          "2025-02-02T00:00:00",
          "2025-02-03T00:00:00",
          "2025-02-04T00:00:00",
          "2025-02-05T00:00:00",
          "2025-02-06T00:00:00",
          "2025-02-07T00:00:00",
          "2025-02-08T00:00:00",
          "2025-02-09T00:00:00",
          "2025-02-10T00:00:00",
          "2025-02-11T00:00:00",
          "2025-02-12T00:00:00",
          "2025-02-13T00:00:00",
          "2025-02-14T00:00:00",
          "2025-02-15T00:00:00",
          "2025-02-16T00:00:00",
          "2025-02-17T00:00:00",
          "2025-02-18T00:00:00",
          "2025-02-19T00:00:00",
          "2025-02-20T00:00:00",
          "2025-02-21T00:00:00",
          "2025-02-22T00:00:00",
          "2025-02-23T00:00:00",
          "2025-02-24T00:00:00",
          "2025-02-25T00:00:00",
          "2025-02-26T00:00:00",
          "2025-02-27T00:00:00",
          "2025-02-28T00:00:00",
          "2025-03-01T00:00:00",
          "2025-03-02T00:00:00",
          "2025-03-03T00:00:00",
          "2025-03-04T00:00:00",
          "2025-03-05T00:00:00",
          "2025-03-06T00:00:00",
          "2025-03-07T00:00:00",
          "2025-03-08T00:00:00",
          "2025-03-09T00:00:00",
          "2025-03-10T00:00:00",
          "2025-03-11T00:00:00",
          "2025-03-12T00:00:00",
          "2025-03-13T00:00:00",
          "2025-03-14T00:00:00",
          "2025-03-15T00:00:00",
          "2025-03-16T00:00:00"
         ],
         "xaxis": "x",
         "y": [
          39900,
          31400,
          26700,
          27500,
          32900,
          30500,
          25800,
          31325,
          27800,
          28200,
          25500,
          38000,
          31475,
          30700,
          40000,
          40000,
          40000,
          49133.33333333333,
          44866.66666666667,
          28875,
          25800,
          37600,
          37600,
          37600,
          56500,
          78400,
          54300,
          50000,
          45300,
          45300,
          45300,
          33900,
          39900,
          29700,
          44900,
          38700,
          38700,
          38700,
          34600,
          28900,
          30800,
          32500,
          37200,
          37200,
          37200,
          44600,
          65000,
          65000,
          65000,
          56000,
          56000,
          56000,
          56000,
          64200,
          64200,
          53775,
          46025,
          44600,
          44600,
          31200,
          39075,
          38750,
          32600,
          36450,
          36000,
          36000,
          31275,
          36600,
          34300,
          36475,
          36975,
          36900,
          36900,
          27000,
          30300,
          34050,
          30300,
          48400,
          48500,
          49000,
          46400,
          45200,
          46975,
          47700,
          47700,
          66400,
          47900,
          49200,
          72150,
          69000,
          69000,
          69000,
          63800,
          60700,
          59500,
          84200,
          76880,
          69560,
          62240,
          54920,
          47600,
          51950,
          50600,
          62000,
          62000,
          62000,
          55600,
          56800,
          40850,
          34400,
          48400,
          48400,
          48400,
          72850,
          81000,
          78225,
          77300,
          81000,
          81000,
          81000,
          74000,
          74000,
          73400,
          68200,
          70600,
          70600,
          70600
         ],
         "yaxis": "y"
        }
       ],
       "layout": {
        "legend": {
         "tracegroupgap": 0
        },
        "showlegend": true,
        "template": {
         "data": {
          "bar": [
           {
            "error_x": {
             "color": "#2a3f5f"
            },
            "error_y": {
             "color": "#2a3f5f"
            },
            "marker": {
             "line": {
              "color": "#E5ECF6",
              "width": 0.5
             },
             "pattern": {
              "fillmode": "overlay",
              "size": 10,
              "solidity": 0.2
             }
            },
            "type": "bar"
           }
          ],
          "barpolar": [
           {
            "marker": {
             "line": {
              "color": "#E5ECF6",
              "width": 0.5
             },
             "pattern": {
              "fillmode": "overlay",
              "size": 10,
              "solidity": 0.2
             }
            },
            "type": "barpolar"
           }
          ],
          "carpet": [
           {
            "aaxis": {
             "endlinecolor": "#2a3f5f",
             "gridcolor": "white",
             "linecolor": "white",
             "minorgridcolor": "white",
             "startlinecolor": "#2a3f5f"
            },
            "baxis": {
             "endlinecolor": "#2a3f5f",
             "gridcolor": "white",
             "linecolor": "white",
             "minorgridcolor": "white",
             "startlinecolor": "#2a3f5f"
            },
            "type": "carpet"
           }
          ],
          "choropleth": [
           {
            "colorbar": {
             "outlinewidth": 0,
             "ticks": ""
            },
            "type": "choropleth"
           }
          ],
          "contour": [
           {
            "colorbar": {
             "outlinewidth": 0,
             "ticks": ""
            },
            "colorscale": [
             [
              0,
              "#0d0887"
             ],
             [
              0.1111111111111111,
              "#46039f"
             ],
             [
              0.2222222222222222,
              "#7201a8"
             ],
             [
              0.3333333333333333,
              "#9c179e"
             ],
             [
              0.4444444444444444,
              "#bd3786"
             ],
             [
              0.5555555555555556,
              "#d8576b"
             ],
             [
              0.6666666666666666,
              "#ed7953"
             ],
             [
              0.7777777777777778,
              "#fb9f3a"
             ],
             [
              0.8888888888888888,
              "#fdca26"
             ],
             [
              1,
              "#f0f921"
             ]
            ],
            "type": "contour"
           }
          ],
          "contourcarpet": [
           {
            "colorbar": {
             "outlinewidth": 0,
             "ticks": ""
            },
            "type": "contourcarpet"
           }
          ],
          "heatmap": [
           {
            "colorbar": {
             "outlinewidth": 0,
             "ticks": ""
            },
            "colorscale": [
             [
              0,
              "#0d0887"
             ],
             [
              0.1111111111111111,
              "#46039f"
             ],
             [
              0.2222222222222222,
              "#7201a8"
             ],
             [
              0.3333333333333333,
              "#9c179e"
             ],
             [
              0.4444444444444444,
              "#bd3786"
             ],
             [
              0.5555555555555556,
              "#d8576b"
             ],
             [
              0.6666666666666666,
              "#ed7953"
             ],
             [
              0.7777777777777778,
              "#fb9f3a"
             ],
             [
              0.8888888888888888,
              "#fdca26"
             ],
             [
              1,
              "#f0f921"
             ]
            ],
            "type": "heatmap"
           }
          ],
          "heatmapgl": [
           {
            "colorbar": {
             "outlinewidth": 0,
             "ticks": ""
            },
            "colorscale": [
             [
              0,
              "#0d0887"
             ],
             [
              0.1111111111111111,
              "#46039f"
             ],
             [
              0.2222222222222222,
              "#7201a8"
             ],
             [
              0.3333333333333333,
              "#9c179e"
             ],
             [
              0.4444444444444444,
              "#bd3786"
             ],
             [
              0.5555555555555556,
              "#d8576b"
             ],
             [
              0.6666666666666666,
              "#ed7953"
             ],
             [
              0.7777777777777778,
              "#fb9f3a"
             ],
             [
              0.8888888888888888,
              "#fdca26"
             ],
             [
              1,
              "#f0f921"
             ]
            ],
            "type": "heatmapgl"
           }
          ],
          "histogram": [
           {
            "marker": {
             "pattern": {
              "fillmode": "overlay",
              "size": 10,
              "solidity": 0.2
             }
            },
            "type": "histogram"
           }
          ],
          "histogram2d": [
           {
            "colorbar": {
             "outlinewidth": 0,
             "ticks": ""
            },
            "colorscale": [
             [
              0,
              "#0d0887"
             ],
             [
              0.1111111111111111,
              "#46039f"
             ],
             [
              0.2222222222222222,
              "#7201a8"
             ],
             [
              0.3333333333333333,
              "#9c179e"
             ],
             [
              0.4444444444444444,
              "#bd3786"
             ],
             [
              0.5555555555555556,
              "#d8576b"
             ],
             [
              0.6666666666666666,
              "#ed7953"
             ],
             [
              0.7777777777777778,
              "#fb9f3a"
             ],
             [
              0.8888888888888888,
              "#fdca26"
             ],
             [
              1,
              "#f0f921"
             ]
            ],
            "type": "histogram2d"
           }
          ],
          "histogram2dcontour": [
           {
            "colorbar": {
             "outlinewidth": 0,
             "ticks": ""
            },
            "colorscale": [
             [
              0,
              "#0d0887"
             ],
             [
              0.1111111111111111,
              "#46039f"
             ],
             [
              0.2222222222222222,
              "#7201a8"
             ],
             [
              0.3333333333333333,
              "#9c179e"
             ],
             [
              0.4444444444444444,
              "#bd3786"
             ],
             [
              0.5555555555555556,
              "#d8576b"
             ],
             [
              0.6666666666666666,
              "#ed7953"
             ],
             [
              0.7777777777777778,
              "#fb9f3a"
             ],
             [
              0.8888888888888888,
              "#fdca26"
             ],
             [
              1,
              "#f0f921"
             ]
            ],
            "type": "histogram2dcontour"
           }
          ],
          "mesh3d": [
           {
            "colorbar": {
             "outlinewidth": 0,
             "ticks": ""
            },
            "type": "mesh3d"
           }
          ],
          "parcoords": [
           {
            "line": {
             "colorbar": {
              "outlinewidth": 0,
              "ticks": ""
             }
            },
            "type": "parcoords"
           }
          ],
          "pie": [
           {
            "automargin": true,
            "type": "pie"
           }
          ],
          "scatter": [
           {
            "fillpattern": {
             "fillmode": "overlay",
             "size": 10,
             "solidity": 0.2
            },
            "type": "scatter"
           }
          ],
          "scatter3d": [
           {
            "line": {
             "colorbar": {
              "outlinewidth": 0,
              "ticks": ""
             }
            },
            "marker": {
             "colorbar": {
              "outlinewidth": 0,
              "ticks": ""
             }
            },
            "type": "scatter3d"
           }
          ],
          "scattercarpet": [
           {
            "marker": {
             "colorbar": {
              "outlinewidth": 0,
              "ticks": ""
             }
            },
            "type": "scattercarpet"
           }
          ],
          "scattergeo": [
           {
            "marker": {
             "colorbar": {
              "outlinewidth": 0,
              "ticks": ""
             }
            },
            "type": "scattergeo"
           }
          ],
          "scattergl": [
           {
            "marker": {
             "colorbar": {
              "outlinewidth": 0,
              "ticks": ""
             }
            },
            "type": "scattergl"
           }
          ],
          "scattermapbox": [
           {
            "marker": {
             "colorbar": {
              "outlinewidth": 0,
              "ticks": ""
             }
            },
            "type": "scattermapbox"
           }
          ],
          "scatterpolar": [
           {
            "marker": {
             "colorbar": {
              "outlinewidth": 0,
              "ticks": ""
             }
            },
            "type": "scatterpolar"
           }
          ],
          "scatterpolargl": [
           {
            "marker": {
             "colorbar": {
              "outlinewidth": 0,
              "ticks": ""
             }
            },
            "type": "scatterpolargl"
           }
          ],
          "scatterternary": [
           {
            "marker": {
             "colorbar": {
              "outlinewidth": 0,
              "ticks": ""
             }
            },
            "type": "scatterternary"
           }
          ],
          "surface": [
           {
            "colorbar": {
             "outlinewidth": 0,
             "ticks": ""
            },
            "colorscale": [
             [
              0,
              "#0d0887"
             ],
             [
              0.1111111111111111,
              "#46039f"
             ],
             [
              0.2222222222222222,
              "#7201a8"
             ],
             [
              0.3333333333333333,
              "#9c179e"
             ],
             [
              0.4444444444444444,
              "#bd3786"
             ],
             [
              0.5555555555555556,
              "#d8576b"
             ],
             [
              0.6666666666666666,
              "#ed7953"
             ],
             [
              0.7777777777777778,
              "#fb9f3a"
             ],
             [
              0.8888888888888888,
              "#fdca26"
             ],
             [
              1,
              "#f0f921"
             ]
            ],
            "type": "surface"
           }
          ],
          "table": [
           {
            "cells": {
             "fill": {
              "color": "#EBF0F8"
             },
             "line": {
              "color": "white"
             }
            },
            "header": {
             "fill": {
              "color": "#C8D4E3"
             },
             "line": {
              "color": "white"
             }
            },
            "type": "table"
           }
          ]
         },
         "layout": {
          "annotationdefaults": {
           "arrowcolor": "#2a3f5f",
           "arrowhead": 0,
           "arrowwidth": 1
          },
          "autotypenumbers": "strict",
          "coloraxis": {
           "colorbar": {
            "outlinewidth": 0,
            "ticks": ""
           }
          },
          "colorscale": {
           "diverging": [
            [
             0,
             "#8e0152"
            ],
            [
             0.1,
             "#c51b7d"
            ],
            [
             0.2,
             "#de77ae"
            ],
            [
             0.3,
             "#f1b6da"
            ],
            [
             0.4,
             "#fde0ef"
            ],
            [
             0.5,
             "#f7f7f7"
            ],
            [
             0.6,
             "#e6f5d0"
            ],
            [
             0.7,
             "#b8e186"
            ],
            [
             0.8,
             "#7fbc41"
            ],
            [
             0.9,
             "#4d9221"
            ],
            [
             1,
             "#276419"
            ]
           ],
           "sequential": [
            [
             0,
             "#0d0887"
            ],
            [
             0.1111111111111111,
             "#46039f"
            ],
            [
             0.2222222222222222,
             "#7201a8"
            ],
            [
             0.3333333333333333,
             "#9c179e"
            ],
            [
             0.4444444444444444,
             "#bd3786"
            ],
            [
             0.5555555555555556,
             "#d8576b"
            ],
            [
             0.6666666666666666,
             "#ed7953"
            ],
            [
             0.7777777777777778,
             "#fb9f3a"
            ],
            [
             0.8888888888888888,
             "#fdca26"
            ],
            [
             1,
             "#f0f921"
            ]
           ],
           "sequentialminus": [
            [
             0,
             "#0d0887"
            ],
            [
             0.1111111111111111,
             "#46039f"
            ],
            [
             0.2222222222222222,
             "#7201a8"
            ],
            [
             0.3333333333333333,
             "#9c179e"
            ],
            [
             0.4444444444444444,
             "#bd3786"
            ],
            [
             0.5555555555555556,
             "#d8576b"
            ],
            [
             0.6666666666666666,
             "#ed7953"
            ],
            [
             0.7777777777777778,
             "#fb9f3a"
            ],
            [
             0.8888888888888888,
             "#fdca26"
            ],
            [
             1,
             "#f0f921"
            ]
           ]
          },
          "colorway": [
           "#636efa",
           "#EF553B",
           "#00cc96",
           "#ab63fa",
           "#FFA15A",
           "#19d3f3",
           "#FF6692",
           "#B6E880",
           "#FF97FF",
           "#FECB52"
          ],
          "font": {
           "color": "#2a3f5f"
          },
          "geo": {
           "bgcolor": "white",
           "lakecolor": "white",
           "landcolor": "#E5ECF6",
           "showlakes": true,
           "showland": true,
           "subunitcolor": "white"
          },
          "hoverlabel": {
           "align": "left"
          },
          "hovermode": "closest",
          "mapbox": {
           "style": "light"
          },
          "paper_bgcolor": "white",
          "plot_bgcolor": "#E5ECF6",
          "polar": {
           "angularaxis": {
            "gridcolor": "white",
            "linecolor": "white",
            "ticks": ""
           },
           "bgcolor": "#E5ECF6",
           "radialaxis": {
            "gridcolor": "white",
            "linecolor": "white",
            "ticks": ""
           }
          },
          "scene": {
           "xaxis": {
            "backgroundcolor": "#E5ECF6",
            "gridcolor": "white",
            "gridwidth": 2,
            "linecolor": "white",
            "showbackground": true,
            "ticks": "",
            "zerolinecolor": "white"
           },
           "yaxis": {
            "backgroundcolor": "#E5ECF6",
            "gridcolor": "white",
            "gridwidth": 2,
            "linecolor": "white",
            "showbackground": true,
            "ticks": "",
            "zerolinecolor": "white"
           },
           "zaxis": {
            "backgroundcolor": "#E5ECF6",
            "gridcolor": "white",
            "gridwidth": 2,
            "linecolor": "white",
            "showbackground": true,
            "ticks": "",
            "zerolinecolor": "white"
           }
          },
          "shapedefaults": {
           "line": {
            "color": "#2a3f5f"
           }
          },
          "ternary": {
           "aaxis": {
            "gridcolor": "white",
            "linecolor": "white",
            "ticks": ""
           },
           "baxis": {
            "gridcolor": "white",
            "linecolor": "white",
            "ticks": ""
           },
           "bgcolor": "#E5ECF6",
           "caxis": {
            "gridcolor": "white",
            "linecolor": "white",
            "ticks": ""
           }
          },
          "title": {
           "x": 0.05
          },
          "xaxis": {
           "automargin": true,
           "gridcolor": "white",
           "linecolor": "white",
           "ticks": "",
           "title": {
            "standoff": 15
           },
           "zerolinecolor": "white",
           "zerolinewidth": 2
          },
          "yaxis": {
           "automargin": true,
           "gridcolor": "white",
           "linecolor": "white",
           "ticks": "",
           "title": {
            "standoff": 15
           },
           "zerolinecolor": "white",
           "zerolinewidth": 2
          }
         }
        },
        "title": {
         "text": "EQ COD Over Time"
        },
        "xaxis": {
         "anchor": "y",
         "domain": [
          0,
          1
         ],
         "title": {
          "text": "Date"
         }
        },
        "yaxis": {
         "anchor": "x",
         "domain": [
          0,
          1
         ],
         "title": {
          "text": "EQ COD Value"
         }
        }
       }
      }
     },
     "metadata": {},
     "output_type": "display_data"
    }
   ],
   "source": [
    "import plotly.express as px\n",
    "\n",
    "# Assuming 'df' is your dataframe and it has 'date' as the index.\n",
    "# If 'date' is not the index, ensure it is converted to a datetime column in the dataframe.\n",
    "\n",
    "# Convert index to a column if needed\n",
    "cook_df.reset_index(inplace=True)\n",
    "\n",
    "fig = px.line(cook_df, x='date', y='eq_cod', title='EQ COD Over Time', labels={'eq_cod': 'EQ COD Value'})\n",
    "fig.update_xaxes(title_text='Date')\n",
    "fig.update_yaxes(title_text='EQ COD Value')\n",
    "fig.update_layout(showlegend=True)\n",
    "\n",
    "fig.show()\n"
   ]
  },
  {
   "cell_type": "code",
   "execution_count": 60,
   "metadata": {},
   "outputs": [
    {
     "data": {
      "image/png": "[encoded data removed]",
      "text/plain": [
       "<Figure size 1000x600 with 1 Axes>"
      ]
     },
     "metadata": {},
     "output_type": "display_data"
    },
    {
     "data": {
      "image/png": "[encoded data removed]",
      "text/plain": [
       "<Figure size 1000x600 with 1 Axes>"
      ]
     },
     "metadata": {},
     "output_type": "display_data"
    }
   ],
   "source": [
    "# Import necessary libraries\n",
    "from sklearn.ensemble import RandomForestRegressor\n",
    "from sklearn.model_selection import train_test_split\n",
    "import matplotlib.pyplot as plt\n",
    "import numpy as np\n",
    "\n",
    "# Function to perform feature importance analysis\n",
    "def feature_importance_analysis(df, target_column, drop_columns, title):\n",
    "    # Prepare the data\n",
    "    X = df.drop(drop_columns, axis=1)\n",
    "    y = df[target_column]\n",
    "\n",
    "    # Splitting the data\n",
    "    X_train, X_test, y_train, y_test = train_test_split(X, y, test_size=0.2, random_state=42)\n",
    "\n",
    "    # Modeling\n",
    "    model = RandomForestRegressor(n_estimators=300, random_state=42)\n",
    "    model.fit(X_train, y_train)\n",
    "\n",
    "    # Feature importance extraction\n",
    "    importances = model.feature_importances_\n",
    "    features = X_train.columns\n",
    "\n",
    "    # Sorting the features by importance\n",
    "    indices = np.argsort(importances)\n",
    "    sorted_features = [features[i] for i in indices]\n",
    "    sorted_importances = importances[indices]\n",
    "\n",
    "    # Create the plot\n",
    "    plt.figure(figsize=(10, 6))\n",
    "    plt.barh(sorted_features, sorted_importances)\n",
    "    plt.xlabel('Importance')\n",
    "    plt.ylabel('Feature')\n",
    "    plt.title(title)\n",
    "    plt.show()\n",
    "\n",
    "# Feature importance for saniWASE_df\n",
    "feature_importance_analysis(\n",
    "    df= saniWASE_df_interpolated,\n",
    "    target_column='eq_cod',\n",
    "    drop_columns=['eq_cod', 'date'],\n",
    "    title='Feature Importance for saniWASE_df'\n",
    ")\n",
    "\n",
    "# Feature importance for cook_df\n",
    "feature_importance_analysis(\n",
    "    df= cook_df_interpolated,\n",
    "    target_column='eq_cod',\n",
    "    drop_columns=['eq_cod', 'date'],\n",
    "    title='Feature Importance for cook_df'\n",
    ")\n",
    "\n"
   ]
  },
  {
   "cell_type": "markdown",
   "metadata": {},
   "source": [
    "# Feature Importance Comparison\n",
    "\n",
    "## Common Observations\n",
    "- **`t1_ph`** is the most significant feature in both datasets (importance > 0.4).\n",
    "- **`biogas_vol`** consistently ranks among the top three features.\n",
    "\n",
    "## Notable Differences\n",
    "\n",
    "| Feature               | saniWASE_df Importance | cook_df Importance |\n",
    "|-----------------------|------------------------|--------------------|\n",
    "| **`methane_percentage`** | High (2nd)             | Low (6th)          |\n",
    "| **`eq_ph`**              | Moderate (5th)         | High (2nd)         |\n",
    "| **`feed_vol`**           | Low (8th)              | Moderate (4th)     |\n",
    "| **`current`**            | Moderate (4th)         | Low (5th)          |\n",
    "| **`temp`**               | Low (slightly higher)  | Very Low           |\n",
    "| **`hrt`**                | Consistently low       | Lowest             |\n",
    "\n",
    "## Overall Insights\n",
    "- **`t1_ph`** consistently emerges as the most influential predictor, indicating pH's critical role across both scenarios.\n",
    "- Secondary feature importance highlights dataset-specific dynamics:\n",
    "  - **saniWASE_df** outcomes depend significantly on methane percentage and biogas volume.\n",
    "  - **cook_df** outcomes rely heavily on equilibrium pH (`eq_ph`) and biogas volume.\n"
   ]
  },
  {
   "cell_type": "code",
   "execution_count": 61,
   "metadata": {},
   "outputs": [
    {
     "name": "stdout",
     "output_type": "stream",
     "text": [
      "    eq_cod       date  t1_ph  biogas_vol  methane_percentage  current  \\\n",
      "0  39900.0 2024-11-04    7.0       300.0              6666.0  497.422   \n",
      "1  31400.0 2024-11-05    7.0       690.0              6271.0  545.210   \n",
      "2  26700.0 2024-11-06    7.0       660.0              6416.0  519.733   \n",
      "3  27500.0 2024-11-07    7.0       770.0              6132.0  506.521   \n",
      "4  32900.0 2024-11-08    7.0       740.0              6061.0  484.783   \n",
      "\n",
      "        temp  t1_ph_ma  biogas_vol_ma  methane_percentage_ma  current_ma  \\\n",
      "0  35.770769       7.0     300.000000                 6666.0  497.422000   \n",
      "1  36.464368       7.0     495.000000                 6468.5  521.316000   \n",
      "2  36.996667       7.0     550.000000                 6451.0  520.788333   \n",
      "3  35.317529       7.0     706.666667                 6273.0  523.821333   \n",
      "4  35.906047       7.0     723.333333                 6203.0  503.679000   \n",
      "\n",
      "     temp_ma  \n",
      "0  35.770769  \n",
      "1  36.117569  \n",
      "2  36.410601  \n",
      "3  36.259521  \n",
      "4  36.073414  \n"
     ]
    },
    {
     "name": "stderr",
     "output_type": "stream",
     "text": [
      "/tmp/ipykernel_12172/3930926975.py:6: SettingWithCopyWarning:\n",
      "\n",
      "\n",
      "A value is trying to be set on a copy of a slice from a DataFrame.\n",
      "Try using .loc[row_indexer,col_indexer] = value instead\n",
      "\n",
      "See the caveats in the documentation: https://pandas.pydata.org/pandas-docs/stable/user_guide/indexing.html#returning-a-view-versus-a-copy\n",
      "\n",
      "/tmp/ipykernel_12172/3930926975.py:7: SettingWithCopyWarning:\n",
      "\n",
      "\n",
      "A value is trying to be set on a copy of a slice from a DataFrame.\n",
      "Try using .loc[row_indexer,col_indexer] = value instead\n",
      "\n",
      "See the caveats in the documentation: https://pandas.pydata.org/pandas-docs/stable/user_guide/indexing.html#returning-a-view-versus-a-copy\n",
      "\n"
     ]
    }
   ],
   "source": [
    "scaler = joblib.load('model_params/robust_scaler.pkl')\n",
    "df_interpolated  = cook_df_interpolated[['eq_cod', 'date', 't1_ph', 'biogas_vol', 'methane_percentage', 'current', 'temp']]\n",
    "\n",
    "\n",
    "window_size = 3\n",
    "df_interpolated['t1_ph_ma'] = df_interpolated['t1_ph'].rolling(window=window_size, min_periods=1).mean()\n",
    "df_interpolated['biogas_vol_ma'] = df_interpolated['biogas_vol'].rolling(window=window_size, min_periods=1).mean()\n",
    "df_interpolated['methane_percentage_ma'] = df_interpolated['methane_percentage'].rolling(window=window_size, min_periods=1).mean()\n",
    "df_interpolated['current_ma'] = df_interpolated['current'].rolling(window=window_size, min_periods=1).mean()\n",
    "df_interpolated['temp_ma'] = df_interpolated['temp'].rolling(window=window_size, min_periods=1).mean()\n",
    "\n",
    "# Display the DataFrame to verify the moving averages\n",
    "print(df_interpolated.head())\n",
    "df_interpolated = df_interpolated.interpolate(method = 'ffill')\n",
    "df_interpolated = df_interpolated.interpolate(method = 'bfill')"
   ]
  },
  {
   "cell_type": "code",
   "execution_count": 62,
   "metadata": {},
   "outputs": [
    {
     "name": "stdout",
     "output_type": "stream",
     "text": [
      "             eq_cod       t1_ph   biogas_vol  methane_percentage     current  \\\n",
      "count    127.000000  127.000000   127.000000          127.000000  127.000000   \n",
      "mean   48554.527559    6.874862  1418.661417         6107.157313  471.359221   \n",
      "std    15866.705681    0.138729   747.528586          311.666333   86.316490   \n",
      "min    25500.000000    6.475000   220.000000         5004.000000  288.361000   \n",
      "25%    36462.500000    6.800000   815.000000         5905.829157  408.726500   \n",
      "50%    45300.000000    6.900000  1250.000000         6102.863372  459.455000   \n",
      "75%    62000.000000    6.986071  1845.000000         6338.910724  523.226500   \n",
      "max    84200.000000    7.180000  3810.000000         6821.000000  790.962000   \n",
      "\n",
      "             temp    t1_ph_ma  biogas_vol_ma  methane_percentage_ma  \\\n",
      "count  127.000000  127.000000     127.000000             127.000000   \n",
      "mean    33.963002    6.875650    1400.748031            6115.245239   \n",
      "std      1.950136    0.124929     688.835626             258.400186   \n",
      "min     23.395769    6.525000     300.000000            5305.811175   \n",
      "25%     32.728720    6.833333     851.666667            5919.876075   \n",
      "50%     34.341628    6.900000    1300.000000            6100.366667   \n",
      "75%     35.328765    6.963889    1766.666667            6322.988409   \n",
      "max     37.718427    7.133333    3593.333333            6666.000000   \n",
      "\n",
      "       current_ma     temp_ma  \n",
      "count  127.000000  127.000000  \n",
      "mean   471.926483   33.961872  \n",
      "std     77.380536    1.729550  \n",
      "min    301.951667   27.834618  \n",
      "25%    415.524000   32.689511  \n",
      "50%    465.106000   34.381208  \n",
      "75%    521.143167   35.185518  \n",
      "max    705.085667   37.410965  \n"
     ]
    }
   ],
   "source": [
    "# print(df_interpolated.info)\n",
    "\n",
    "\n",
    "print(df_interpolated.describe())"
   ]
  },
  {
   "cell_type": "code",
   "execution_count": 63,
   "metadata": {},
   "outputs": [
    {
     "name": "stdout",
     "output_type": "stream",
     "text": [
      "\n",
      "Running iteration with random_state=42\n",
      "Training on 88 samples, testing on 39 samples.\n",
      "Number of samples after SMOTE: 171\n"
     ]
    },
    {
     "data": {
      "image/png": "[encoded data removed]",
      "text/plain": [
       "<Figure size 640x480 with 2 Axes>"
      ]
     },
     "metadata": {},
     "output_type": "display_data"
    },
    {
     "name": "stdout",
     "output_type": "stream",
     "text": [
      "\n",
      "Running iteration with random_state=47\n",
      "Training on 88 samples, testing on 39 samples.\n",
      "Number of samples after SMOTE: 171\n"
     ]
    },
    {
     "name": "stderr",
     "output_type": "stream",
     "text": [
      "/home/farscopestudent/.local/lib/python3.8/site-packages/sklearn/metrics/_classification.py:1334: UndefinedMetricWarning:\n",
      "\n",
      "Precision and F-score are ill-defined and being set to 0.0 in labels with no predicted samples. Use `zero_division` parameter to control this behavior.\n",
      "\n"
     ]
    },
    {
     "data": {
      "image/png": "[encoded data removed]",
      "text/plain": [
       "<Figure size 640x480 with 2 Axes>"
      ]
     },
     "metadata": {},
     "output_type": "display_data"
    },
    {
     "name": "stdout",
     "output_type": "stream",
     "text": [
      "\n",
      "Running iteration with random_state=52\n",
      "Training on 88 samples, testing on 39 samples.\n",
      "Number of samples after SMOTE: 171\n"
     ]
    },
    {
     "data": {
      "image/png": "[encoded data removed]",
      "text/plain": [
       "<Figure size 640x480 with 2 Axes>"
      ]
     },
     "metadata": {},
     "output_type": "display_data"
    },
    {
     "name": "stdout",
     "output_type": "stream",
     "text": [
      "\n",
      "Running iteration with random_state=58\n",
      "Training on 88 samples, testing on 39 samples.\n",
      "Number of samples after SMOTE: 171\n"
     ]
    },
    {
     "data": {
      "image/png": "[encoded data removed]",
      "text/plain": [
       "<Figure size 640x480 with 2 Axes>"
      ]
     },
     "metadata": {},
     "output_type": "display_data"
    },
    {
     "name": "stdout",
     "output_type": "stream",
     "text": [
      "\n",
      "Running iteration with random_state=63\n",
      "Training on 88 samples, testing on 39 samples.\n",
      "Number of samples after SMOTE: 171\n"
     ]
    },
    {
     "data": {
      "image/png": "[encoded data removed]",
      "text/plain": [
       "<Figure size 640x480 with 2 Axes>"
      ]
     },
     "metadata": {},
     "output_type": "display_data"
    },
    {
     "name": "stdout",
     "output_type": "stream",
     "text": [
      "\n",
      "Aggregated Performance Summary:\n",
      "\n",
      "   Random State  Accuracy  Precision (Macro)  Recall (Macro)  \\\n",
      "0            42  0.974359           0.987179        0.888889   \n",
      "1            47  0.923077           0.630952        0.666667   \n",
      "2            52  0.948718           0.958889        0.875556   \n",
      "3            58  0.974359           0.987179        0.969697   \n",
      "4            63  1.000000           1.000000        1.000000   \n",
      "\n",
      "   F1-score (Macro)    Class distribution  \n",
      "0          0.926797  {1: 25, 2: 11, 0: 3}  \n",
      "1          0.647799  {1: 25, 2: 11, 0: 3}  \n",
      "2          0.905507  {2: 11, 1: 25, 0: 3}  \n",
      "3          0.977591  {1: 25, 2: 11, 0: 3}  \n",
      "4          1.000000  {2: 11, 1: 25, 0: 3}  \n"
     ]
    }
   ],
   "source": [
    "import numpy as np\n",
    "import pandas as pd\n",
    "import os\n",
    "import joblib\n",
    "import matplotlib.pyplot as plt\n",
    "from sklearn.model_selection import train_test_split\n",
    "from sklearn.ensemble import RandomForestClassifier, VotingClassifier\n",
    "from sklearn.metrics import (\n",
    "    accuracy_score,\n",
    "    precision_recall_fscore_support,\n",
    "    confusion_matrix,\n",
    "    ConfusionMatrixDisplay\n",
    ")\n",
    "from imblearn.over_sampling import SMOTE\n",
    "from collections import Counter\n",
    "\n",
    "# Load pre-saved scaler\n",
    "scaler_path = 'model_params/robust_scaler.pkl'\n",
    "scaler = joblib.load(scaler_path)\n",
    "\n",
    "# Assume df_interpolated is already defined or loaded\n",
    "df = df_interpolated.copy()\n",
    "\n",
    "# Target variable and binning setup\n",
    "target = 'eq_cod'\n",
    "bins = [0, 30000, 60000, np.inf]  # Adjusted bin ranges\n",
    "labels = [f\"{bin_start}-{bin_end}\" for bin_start, bin_end in zip(bins[:-1], bins[1:])]\n",
    "\n",
    "# Preprocessing\n",
    "df['date'] = pd.to_datetime(df['date'])\n",
    "df.set_index('date', inplace=True)\n",
    "df.dropna(subset=[target], inplace=True)\n",
    "\n",
    "# Creating target categories\n",
    "df['target_category'] = pd.cut(df[target], bins=bins, labels=labels, include_lowest=True)\n",
    "df.dropna(subset=['target_category'], inplace=True)\n",
    "df['target_category'] = df['target_category'].cat.codes\n",
    "\n",
    "# Ensuring feature consistency\n",
    "expected_features = [feat for feat in scaler.feature_names_in_ if feat in df.columns]\n",
    "missing_features = set(scaler.feature_names_in_) - set(expected_features)\n",
    "if missing_features:\n",
    "    raise ValueError(f\"Missing expected features: {missing_features}\")\n",
    "\n",
    "X = df[expected_features]\n",
    "y = df['target_category']\n",
    "\n",
    "results_list = []\n",
    "\n",
    "# Running multiple iterations with different random states\n",
    "random_states = [42, 47, 52, 58, 63]\n",
    "\n",
    "for state in random_states:\n",
    "    print(f\"\\nRunning iteration with random_state={state}\")\n",
    "\n",
    "    # Split data\n",
    "    X_train, X_val, y_train, y_val = train_test_split(\n",
    "        X, y, test_size=0.3, random_state=state, stratify=y\n",
    "    )\n",
    "\n",
    "    print(f\"Training on {len(X_train)} samples, testing on {len(X_val)} samples.\")\n",
    "\n",
    "    # Scale data\n",
    "    X_train_scaled = scaler.transform(X_train)\n",
    "    X_val_scaled = scaler.transform(X_val)\n",
    "\n",
    "    # Apply SMOTE\n",
    "    smote = SMOTE(random_state=state)\n",
    "    X_train_smote, y_train_smote = smote.fit_resample(X_train_scaled, y_train)\n",
    "    print(f\"Number of samples after SMOTE: {len(X_train_smote)}\")  # Display the number of samples after SMOTE\n",
    "\n",
    "    # Load and fine-tune pre-trained models\n",
    "    model_dir = 'model_params'\n",
    "    model_files = [f for f in os.listdir(model_dir) if f.startswith('random_forest_model_fold')]\n",
    "    pretrained_models = []\n",
    "\n",
    "    for model_file in model_files:\n",
    "        model_path = os.path.join(model_dir, model_file)\n",
    "        model = joblib.load(model_path)\n",
    "        model.fit(X_train_smote, y_train_smote)\n",
    "        pretrained_models.append((model_file, model))\n",
    "\n",
    "    # Ensemble models\n",
    "    ensemble_model = VotingClassifier(\n",
    "        estimators=[(name, model) for name, model in pretrained_models], voting='soft'\n",
    "    )\n",
    "    ensemble_model.fit(X_train_smote, y_train_smote)\n",
    "\n",
    "    # Predictions and evaluation\n",
    "    y_pred = ensemble_model.predict(X_val_scaled)\n",
    "\n",
    "    accuracy = accuracy_score(y_val, y_pred)\n",
    "    precision, recall, f1_score, _ = precision_recall_fscore_support(y_val, y_pred, average='macro')\n",
    "\n",
    "    cm = confusion_matrix(y_val, y_pred)\n",
    "    unique_labels = np.unique(np.concatenate((y_val, y_pred)))\n",
    "    display_labels = [labels[i] for i in unique_labels]\n",
    "\n",
    "    disp = ConfusionMatrixDisplay(confusion_matrix=cm, display_labels=display_labels)\n",
    "    disp.plot(cmap=plt.cm.Blues)\n",
    "    plt.title(f'Confusion Matrix (Random State: {state})')\n",
    "    plt.show()\n",
    "\n",
    "    # Collect results\n",
    "    results_summary = {\n",
    "        'Random State': state,\n",
    "        'Accuracy': accuracy,\n",
    "        'Precision (Macro)': precision,\n",
    "        'Recall (Macro)': recall,\n",
    "        'F1-score (Macro)': f1_score,\n",
    "        'Class distribution': Counter(y_val),\n",
    "    }\n",
    "    results_list.append(results_summary)\n",
    "\n",
    "# Save and print aggregated results\n",
    "results_df = pd.DataFrame(results_list)\n",
    "print(\"\\nAggregated Performance Summary:\\n\")\n",
    "print(results_df)\n",
    "\n",
    "results_df.to_csv(os.path.join(model_dir, 'aggregated_fine_tuned_results.csv'), index=False)\n"
   ]
  },
  {
   "cell_type": "code",
   "execution_count": 64,
   "metadata": {},
   "outputs": [
    {
     "name": "stdout",
     "output_type": "stream",
     "text": [
      "Testing with random state 42\n",
      "Testing with random state 50\n",
      "Testing with random state 58\n",
      "Testing with random state 66\n",
      "Testing with random state 74\n",
      "Testing with random state 82\n",
      "Testing with random state 90\n",
      "Testing with random state 98\n",
      "Testing with random state 106\n",
      "Testing with random state 114\n",
      "   random_state  accuracy  precision_macro  recall_macro  f1_score_macro\n",
      "0            42  0.868421         0.772727      0.921875        0.810568\n",
      "1            50  0.763158         0.700000      0.859375        0.703896\n",
      "2            58  0.815789         0.730769      0.890625        0.754386\n",
      "3            66  0.789474         0.714286      0.875000        0.728571\n",
      "4            74  0.815789         0.730769      0.890625        0.754386\n",
      "5            82  0.815789         0.730769      0.890625        0.754386\n",
      "6            90  0.763158         0.700000      0.859375        0.703896\n",
      "7            98  0.815789         0.730769      0.890625        0.754386\n",
      "8           106  0.815789         0.730769      0.890625        0.754386\n",
      "9           114  0.868421         0.772727      0.921875        0.810568\n",
      "Training Set: 89 samples, 11 features\n",
      "Testing Set: 38 samples, 11 features\n",
      "After SMOTE - Training Set: 148 samples, 11 features\n"
     ]
    }
   ],
   "source": [
    "import numpy as np\n",
    "import pandas as pd\n",
    "import os\n",
    "import joblib\n",
    "import matplotlib.pyplot as plt\n",
    "from sklearn.ensemble import RandomForestClassifier, VotingClassifier\n",
    "from sklearn.metrics import (\n",
    "    accuracy_score,\n",
    "    precision_recall_fscore_support,\n",
    "    confusion_matrix,\n",
    "    ConfusionMatrixDisplay\n",
    ")\n",
    "from imblearn.over_sampling import SMOTE\n",
    "from collections import Counter\n",
    "\n",
    "# Load pre-saved scaler\n",
    "scaler_path = 'model_params/robust_scaler.pkl'\n",
    "scaler = joblib.load(scaler_path)\n",
    "\n",
    "# Assume df_interpolated is already defined or loaded\n",
    "df = df_interpolated.copy()\n",
    "\n",
    "# Target variable and binning setup\n",
    "target = 'eq_cod'\n",
    "bins = [0, 50000, 90000, np.inf]\n",
    "labels = [f\"{bin_start}-{bin_end}\" for bin_start, bin_end in zip(bins[:-1], bins[1:])]\n",
    "\n",
    "# Preprocessing\n",
    "df['date'] = pd.to_datetime(df['date'])\n",
    "df.set_index('date', inplace=True)\n",
    "df.dropna(subset=[target], inplace=True)\n",
    "\n",
    "# Creating target categories\n",
    "df['target_category'] = pd.cut(df[target], bins=bins, labels=labels, include_lowest=True)\n",
    "df.dropna(subset=['target_category'], inplace=True)\n",
    "df['target_category'] = df['target_category'].cat.codes\n",
    "\n",
    "# Ensuring feature consistency\n",
    "expected_features = [feat for feat in scaler.feature_names_in_ if feat in df.columns]\n",
    "missing_features = set(scaler.feature_names_in_) - set(expected_features)\n",
    "if missing_features:\n",
    "    raise ValueError(f\"Missing expected features: {missing_features}\")\n",
    "\n",
    "X = df[expected_features]\n",
    "y = df['target_category']\n",
    "\n",
    "# Prepare results container\n",
    "results = []\n",
    "\n",
    "# Define multiple random states for evaluation\n",
    "random_states = [42, 50, 58, 66, 74, 82, 90, 98, 106, 114]\n",
    "\n",
    "for state in random_states:\n",
    "    print(f\"Testing with random state {state}\")\n",
    "    # Split data into training and testing using the current random state\n",
    "    X_train, X_test = X.iloc[:-int(len(X) * 0.3)], X.iloc[-int(len(X) * 0.3):]\n",
    "    y_train, y_test = y.iloc[:-int(len(y) * 0.3)], y.iloc[-int(len(y) * 0.3):]\n",
    "\n",
    "    # Scale data\n",
    "    X_train_scaled = scaler.transform(X_train)\n",
    "    X_test_scaled = scaler.transform(X_test)\n",
    "\n",
    "    # Apply SMOTE\n",
    "    smote = SMOTE(random_state=state)\n",
    "    X_train_smote, y_train_smote = smote.fit_resample(X_train_scaled, y_train)\n",
    "\n",
    "    # Load and fine-tune pre-trained models\n",
    "    model_dir = 'model_params'\n",
    "    model_files = [f for f in os.listdir(model_dir) if f.startswith('random_forest_model_fold')]\n",
    "    pretrained_models = []\n",
    "\n",
    "    for model_file in model_files:\n",
    "        model_path = os.path.join(model_dir, model_file)\n",
    "        model = joblib.load(model_path)\n",
    "        model.fit(X_train_smote, y_train_smote)\n",
    "        pretrained_models.append((model_file, model))\n",
    "\n",
    "    # Ensemble models\n",
    "    ensemble_model = VotingClassifier(\n",
    "        estimators=[(name, model) for name, model in pretrained_models], voting='soft'\n",
    "    )\n",
    "    ensemble_model.fit(X_train_smote, y_train_smote)\n",
    "\n",
    "    # Predictions and evaluation on test data\n",
    "    y_pred = ensemble_model.predict(X_test_scaled)\n",
    "\n",
    "    accuracy = accuracy_score(y_test, y_pred)\n",
    "    precision, recall, f1_score, _ = precision_recall_fscore_support(y_test, y_pred, average='macro')\n",
    "\n",
    "    results.append({\n",
    "        'random_state': state,\n",
    "        'accuracy': accuracy,\n",
    "        'precision_macro': precision,\n",
    "        'recall_macro': recall,\n",
    "        'f1_score_macro': f1_score\n",
    "    })\n",
    "\n",
    "# Output aggregated results\n",
    "results_df = pd.DataFrame(results)\n",
    "print(results_df)\n",
    "\n",
    "# Optionally, you can plot the results or save them to a CSV file\n",
    "# results_df.to_csv('model_performance_across_random_states.csv', index=False)\n",
    "# Assuming the following are already defined: X_train, X_test, y_train, y_test\n",
    "# These variables represent the splits of the dataset.\n",
    "\n",
    "# Calculate number of observations and features in the training set\n",
    "n_samples_train = X_train.shape[0]\n",
    "n_features_train = X_train.shape[1]\n",
    "\n",
    "# Calculate number of observations and features in the testing set\n",
    "n_samples_test = X_test.shape[0]\n",
    "n_features_test = X_test.shape[1]\n",
    "\n",
    "print(f\"Training Set: {n_samples_train} samples, {n_features_train} features\")\n",
    "print(f\"Testing Set: {n_samples_test} samples, {n_features_test} features\")\n",
    "\n",
    "# If you are using SMOTE, you might want to also print the shapes after resampling\n",
    "X_train_smote, y_train_smote = SMOTE(random_state=42).fit_resample(X_train_scaled, y_train)\n",
    "print(f\"After SMOTE - Training Set: {X_train_smote.shape[0]} samples, {X_train_smote.shape[1]} features\")\n"
   ]
  }
 ],
 "metadata": {
  "kernelspec": {
   "display_name": "Python 3",
   "language": "python",
   "name": "python3"
  },
  "language_info": {
   "codemirror_mode": {
    "name": "ipython",
    "version": 3
   },
   "file_extension": ".py",
   "mimetype": "text/x-python",
   "name": "python",
   "nbconvert_exporter": "python",
   "pygments_lexer": "ipython3",
   "version": "3.8.10"
  }
 },
 "nbformat": 4,
 "nbformat_minor": 2
}
